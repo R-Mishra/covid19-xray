{
 "cells": [
  {
   "cell_type": "markdown",
   "metadata": {},
   "source": [
    "# Development of CNN Model to Classify Chest X-Ray Images of COVID-19 Patients"
   ]
  },
  {
   "cell_type": "code",
   "execution_count": null,
   "metadata": {
    "colab": {},
    "colab_type": "code",
    "id": "vWjONcwfjzcz"
   },
   "outputs": [],
   "source": [
    "# For opening folders\n",
    "import glob\n",
    "\n",
    "# For image processing\n",
    "from PIL import Image\n",
    "\n",
    "# For data handling\n",
    "import numpy as np\n",
    "import pandas as pd"
   ]
  },
  {
   "cell_type": "code",
   "execution_count": null,
   "metadata": {
    "colab": {},
    "colab_type": "code",
    "id": "Zg09svkVjzc2"
   },
   "outputs": [],
   "source": [
    "# Names of folders that contain the images\n",
    "folders =['covid', 'normal', 'viral pneumonia']"
   ]
  },
  {
   "cell_type": "code",
   "execution_count": null,
   "metadata": {
    "colab": {},
    "colab_type": "code",
    "id": "cDmNUpbyjzc4"
   },
   "outputs": [],
   "source": [
    "# Reading in the data\n",
    "\n",
    "data = []\n",
    "labels = []\n",
    "data = np.asarray(data)\n",
    "\n",
    "\n",
    "for folder in folders:\n",
    "    counter = 0\n",
    "    for filepath in glob.glob('{}/*'.format(folder)):\n",
    "        \n",
    "        # Labels\n",
    "        labels.append(folder)\n",
    "        \n",
    "        # Images\n",
    "        image = Image.open(filepath)\n",
    "        image = image.resize((256,256))  # Resizing the images\n",
    "        image = np.asarray(image)\n",
    "        \n",
    "        if len(image.shape) != 2:        # Multichannel images converted to single channel\n",
    "            image2 = np.zeros((256,256))\n",
    "            image2 = image[:,:,0]\n",
    "            data = np.append(data, image2)\n",
    "        else:\n",
    "            data = np.append(data, image)\n",
    "\n",
    "cleaned_xray_images = data.reshape(362,256,256,1)\n",
    "\n",
    "# Data is cleaned locally and stored so that a small file can be uploaded to the cloud server\n",
    "\n",
    "pd.DataFrame(cleaned_xray_images).to_csv(\"x_ray_dataset_input.csv\", header = None, index = None)\n",
    "pd.DataFrame(labels).to_csv(\"x_ray_dataset_output.csv\", header = None, index = None)\n"
   ]
  },
  {
   "cell_type": "code",
   "execution_count": null,
   "metadata": {
    "colab": {},
    "colab_type": "code",
    "id": "6CshTS5jRGb6"
   },
   "outputs": [],
   "source": [
    "# Since the current version of Keras Vis has not been maintained,\n",
    "# it needs to be installed from a repository github that contains \n",
    "# an updated version [https://github.com/raghakot/keras-vis]\n",
    "\n",
    "# Uninstalling older version of keras-vis\n",
    "!pip uninstall vis\n",
    "!pip uninstall keras-vis\n",
    "!pip uninstall keras-vis-temp\n",
    "\n",
    "# Installing the new vis library \n",
    "!pip install git+https://github.com/raghakot/keras-vis.git -U\n",
    "\n",
    "\n",
    "# For plotting\n",
    "import matplotlib.pyplot as plt\n",
    "% matplotlib inline\n",
    "\n",
    "# For data preprocessing\n",
    "from sklearn.preprocessing import LabelEncoder, MinMaxScaler\n",
    "from sklearn.model_selection import train_test_split\n",
    "from keras.utils import to_categorical\n",
    "from keras.preprocessing.image import ImageDataGenerator\n",
    "\n",
    "# For model development\n",
    "from keras.layers import Input, Dense, Conv2D, MaxPool2D, Flatten, Dropout\n",
    "from keras.models import Model\n",
    "from keras import optimizers\n",
    "\n",
    "# For model training\n",
    "from keras.callbacks import ModelCheckpoint\n",
    "\n",
    "# For clustering and its analysis\n",
    "from sklearn.cluster import AgglomerativeClustering as ac\n",
    "from sklearn.metrics import accuracy_score\n",
    "\n",
    "# For visualizing CNN CAM and Saliency\n",
    "from vis.visualization import visualize_saliency, visualize_activation\n",
    "from vis.visualization import visualize_cam, overlay\n",
    "from vis.utils import utils\n",
    "from keras import activations\n",
    "from scipy import ndimage"
   ]
  },
  {
   "cell_type": "code",
   "execution_count": null,
   "metadata": {
    "colab": {},
    "colab_type": "code",
    "id": "akzvc9h6Rm7N"
   },
   "outputs": [],
   "source": [
    "# Reading in data\n",
    "\n",
    "data = pd.read_csv(\"/x_ray_dataset_input.csv 2.zip\",header = None).values\n",
    "y = pd.read_csv(\"/x_ray_dataset_output.csv 2.zip\",header = None).values"
   ]
  },
  {
   "cell_type": "code",
   "execution_count": null,
   "metadata": {
    "colab": {
     "base_uri": "https://localhost:8080/",
     "height": 284
    },
    "colab_type": "code",
    "id": "uqAC8Ep3RGcS",
    "outputId": "57de272f-9c8e-4572-f004-b8a354bdcd7e"
   },
   "outputs": [],
   "source": [
    "# Reshaping the data and plotting a sample image in the dataset\n",
    "\n",
    "data = data.reshape(362,256,256,1)\n",
    "y = np.asarray(y)\n",
    "\n",
    "plt.imshow(data[1,:,:,0],cmap = 'gray')"
   ]
  },
  {
   "cell_type": "code",
   "execution_count": null,
   "metadata": {
    "colab": {},
    "colab_type": "code",
    "id": "_EuKfxc7RGcU"
   },
   "outputs": [],
   "source": [
    "# Reshuffling the dataset \n",
    "\n",
    "new_sequence = np.random.permutation(data.shape[0])\n",
    "data = data[new_sequence]\n",
    "y = y[new_sequence] "
   ]
  },
  {
   "cell_type": "code",
   "execution_count": null,
   "metadata": {
    "colab": {},
    "colab_type": "code",
    "id": "Ixb6plJ6RGcX"
   },
   "outputs": [],
   "source": [
    "# Encoding Y labels\n",
    "\n",
    "enc = LabelEncoder()\n",
    "y = enc.fit_transform(y)\n",
    "y = to_categorical(y, num_classes = 3)\n",
    "\n",
    "print(y[:10])\n",
    "\n",
    "# Labels coded as:\n",
    "# 0: Covid\n",
    "# 1: Normal\n",
    "# 2: Viral Pneumonia"
   ]
  },
  {
   "cell_type": "code",
   "execution_count": null,
   "metadata": {
    "colab": {},
    "colab_type": "code",
    "id": "I13LyJi2RGcb"
   },
   "outputs": [],
   "source": [
    "# Splitting Training and Testing data\n",
    "\n",
    "x_train, x_test, y_train, y_test = train_test_split(data, \n",
    "                                                    y, \n",
    "                                                    test_size = 0.25, \n",
    "                                                    shuffle = True)"
   ]
  },
  {
   "cell_type": "code",
   "execution_count": null,
   "metadata": {
    "colab": {},
    "colab_type": "code",
    "id": "5ORSxchEqVAg"
   },
   "outputs": [],
   "source": [
    "# Setting up the data generators\n",
    "\n",
    "input_data = ImageDataGenerator(rescale = 1./255)\n",
    "\n",
    "training_data = input_data.flow(x_train, \n",
    "                                y_train, \n",
    "                                batch_size = 10) \n",
    "                    \n",
    "testing_data = input_data.flow(x_test, \n",
    "                               y_test, \n",
    "                               batch_size = 10) "
   ]
  },
  {
   "cell_type": "code",
   "execution_count": null,
   "metadata": {
    "colab": {},
    "colab_type": "code",
    "id": "A4xzHUJYRGcZ"
   },
   "outputs": [],
   "source": [
    "# Developing CNN model\n",
    "\n",
    "#=============================================================================\n",
    "input_img = Input(shape=(256, 256, 1)) \n",
    "\n",
    "# CNN part of the model\n",
    "\n",
    "output = Conv2D(32, kernel_size = (3,3), activation = 'relu')(input_img)\n",
    "output = MaxPool2D((2, 2))(output)\n",
    "\n",
    "output = Conv2D(64, kernel_size = (3,3), activation = 'relu')(output)\n",
    "output = Conv2D(128, kernel_size = (3,3), activation = 'relu')(output)\n",
    "output = MaxPool2D((2, 2))(output)\n",
    "\n",
    "output = Flatten()(output)\n",
    "\n",
    "# Dense layers of the model\n",
    "\n",
    "output = Dense(512,activation = 'relu')(output)\n",
    "output = Dropout(0.2)(output)\n",
    "\n",
    "prob_output = Dense(3, activation = 'softmax')(output)\n",
    "#=============================================================================\n",
    "\n",
    "# Model\n",
    "mdl = Model(input_img, prob_output)\n",
    "\n",
    "# Optimizer\n",
    "adm = optimizers.adam(lr = 0.000001)\n",
    "\n",
    "# Compiling the model\n",
    "mdl.compile(optimizer=adm, loss='categorical_crossentropy', metrics = ['accuracy'])"
   ]
  },
  {
   "cell_type": "code",
   "execution_count": null,
   "metadata": {
    "colab": {},
    "colab_type": "code",
    "id": "hl5SZhJUoVaO"
   },
   "outputs": [],
   "source": [
    "# Keeping track of the validation accuracy and storing the best weights\n",
    "checkpoints = ModelCheckpoint(filepath=\"weights.hdf5\", \n",
    "                               monitor = 'val_accuracy',\n",
    "                               verbose=0, \n",
    "                               save_best_only=True)"
   ]
  },
  {
   "cell_type": "code",
   "execution_count": null,
   "metadata": {
    "colab": {
     "base_uri": "https://localhost:8080/",
     "height": 1000
    },
    "colab_type": "code",
    "id": "_QNyZ9AVo5hv",
    "outputId": "71bddbd3-866b-4225-ceea-d8b42efe6943"
   },
   "outputs": [],
   "source": [
    "# Training the model\n",
    "history = mdl.fit_generator(training_data,\n",
    "                            epochs = 200,\n",
    "                            callbacks=[checkpoints],\n",
    "                            validation_data = testing_data)\n",
    "                                   "
   ]
  },
  {
   "cell_type": "code",
   "execution_count": null,
   "metadata": {
    "colab": {},
    "colab_type": "code",
    "id": "X-72GSpSRGcp"
   },
   "outputs": [],
   "source": [
    "# Loading the best weights and saving the model\n",
    "\n",
    "mdl.load_weights('weights.hdf5')\n",
    "mdl.save('covid19_cnn.h5')"
   ]
  },
  {
   "cell_type": "code",
   "execution_count": null,
   "metadata": {
    "colab": {
     "base_uri": "https://localhost:8080/",
     "height": 588
    },
    "colab_type": "code",
    "id": "P_Cw3SCp05E6",
    "outputId": "8abdb078-8d60-413b-cf2c-086c8954828c"
   },
   "outputs": [],
   "source": [
    "# Visualizing training and testing accuracy over the epochs\n",
    "\n",
    "train_acc = history.history['accuracy']\n",
    "test_acc = history.history['val_accuracy']\n",
    "train_loss = history.history['loss']\n",
    "test_loss = history.history['val_loss']\n",
    "\n",
    "epochs = range(1,len(train_acc)+1)\n",
    "\n",
    "plt.plot(epochs,train_acc, 'b', label = 'Training accuracy')\n",
    "plt.plot(epochs,test_acc, 'orange',label = 'Testing accuracy')\n",
    "plt.xlabel('Epochs')\n",
    "plt.ylabel('Accuracy')\n",
    "plt.title(\"Model Evaluation\")\n",
    "plt.legend()\n",
    "\n",
    "plt.show()\n",
    "\n",
    "plt.plot(epochs,train_loss, 'b', label = 'Training loss')\n",
    "plt.plot(epochs,test_loss, 'orange',label = 'Testing loss')\n",
    "plt.xlabel('Epochs')\n",
    "plt.ylabel('Accuracy')\n",
    "plt.title(\"Model Evaluation\")\n",
    "plt.legend()\n"
   ]
  },
  {
   "cell_type": "code",
   "execution_count": null,
   "metadata": {
    "colab": {},
    "colab_type": "code",
    "id": "5HQgCJW8zjuR"
   },
   "outputs": [],
   "source": [
    "# Function to plot the activaitons\n",
    "\n",
    "def activation_plotter(mdl, image):\n",
    "\n",
    "  l1 = 2\n",
    "  \n",
    "  l2 = 6\n",
    "\n",
    "  \n",
    "  # list of layers and their names\n",
    "\n",
    "  list_layers = [layers.output for layers in mdl.layers[l1-1:l2]]\n",
    "  layer_names = [layers.name for layers in  mdl.layers[l1-1:l2]]\n",
    "\n",
    "  \n",
    "  # Model that will capture the activations at the end of each layer  \n",
    "  mdl_activation = Model(outputs = list_layers, inputs = mdl.input)\n",
    "\n",
    " \n",
    "  # Activations of the image passed to the function\n",
    "  activations = mdl_activation.predict((image/255).reshape(1,256,256,1))\n",
    "\n",
    "  \n",
    "  # For loop to plot activation for each layer\n",
    "  for idx, layer_name in enumerate(layer_names):\n",
    " \n",
    "    filter_image_shape = activations[idx].shape[1:3]\n",
    "    no_of_filters = activations[idx].shape[-1]\n",
    "\n",
    "    activ_val = []\n",
    "    \n",
    "    # Activation value for each filter in a given layer\n",
    "    for f in range(no_of_filters):\n",
    "      activ_val.append(activations[idx][0,:,:,f].sum())\n",
    "    \n",
    "    # Plotting the activation value of the filters in this layer\n",
    "\n",
    "    fig1 = plt.figure(figsize = (20,5))\n",
    "    plt.bar(x = list(range(1,no_of_filters+1)), \n",
    "            height = activ_val, \n",
    "            width = 0.5,\n",
    "            color = 'gray',\n",
    "            edgecolor = 'black')\n",
    "    plt.xlabel('Filters')\n",
    "    plt.ylabel('Activation')\n",
    "    plt.title(\"Activations for {}\".format(layer_name))\n",
    "\n",
    "    images_per_row = 16\n",
    "\n",
    "    # Compiling the feature maps into a grid so that it is easy to display\n",
    "    \n",
    "    mega_array_shape_columns = filter_image_shape[1]*images_per_row\n",
    "    mega_array_shape_rows = int(filter_image_shape[0]*(no_of_filters/images_per_row))\n",
    "    mega_array = np.zeros((mega_array_shape_rows, mega_array_shape_columns))\n",
    "\n",
    "    col = 0\n",
    "    row = 0\n",
    "    a = filter_image_shape[0]\n",
    "    b = filter_image_shape[1]\n",
    "    for i in range(int(no_of_filters/images_per_row)):\n",
    "      for j in range(images_per_row):\n",
    "        mega_array[i*a:(i+1)*(a),j*b:(j+1)*b] = activations[idx][0,:,:,(i*images_per_row)+j]\n",
    "    \n",
    "    # PLottng the grid of the feature maps for this layer\n",
    "    \n",
    "    fig2 = plt.figure(figsize = (20,10))\n",
    "    plt.imshow(mega_array, cmap = 'gray')\n",
    "    plt.title(layer_name)\n",
    "    plt.show()\n",
    "  \n",
    "  return activations, mdl_activation, layer_names"
   ]
  },
  {
   "cell_type": "code",
   "execution_count": null,
   "metadata": {
    "colab": {
     "base_uri": "https://localhost:8080/",
     "height": 1000
    },
    "colab_type": "code",
    "id": "cQ8qXw4a9Zhg",
    "outputId": "ba138119-7640-4e35-952a-7526550d0d33"
   },
   "outputs": [],
   "source": [
    "# Calling function to plot activations \n",
    "\n",
    "activation_val, mdl_activation, layer_names = activation_plotter(mdl,x_train[8])"
   ]
  },
  {
   "cell_type": "code",
   "execution_count": null,
   "metadata": {
    "colab": {},
    "colab_type": "code",
    "id": "3Ved8_j45BNN"
   },
   "outputs": [],
   "source": [
    "# This function returns the activation value for a given layer and image \n",
    "\n",
    "def layerwise_activation_vector(mdl_activation,image, name_of_layer):\n",
    "  \n",
    "  # Activations of the image passed to the function\n",
    "  activations = mdl_activation.predict((image/255).reshape(1,256,256,1))\n",
    "\n",
    "  for idx, layer_name in enumerate(layer_names):\n",
    "    if layer_name == name_of_layer:\n",
    "      \n",
    "      no_of_filters = activations[idx].shape[-1]\n",
    "      \n",
    "      activ_val = []\n",
    "      \n",
    "      for f in range(no_of_filters):\n",
    "        activ_val.append(activations[idx][0,:,:,f].sum())\n",
    "      \n",
    "      return activ_val\n",
    "    "
   ]
  },
  {
   "cell_type": "code",
   "execution_count": null,
   "metadata": {
    "colab": {},
    "colab_type": "code",
    "id": "akO5JB08AoLE"
   },
   "outputs": [],
   "source": [
    "# This function compiles the activation values obtained from layerwise_activation_vector()\n",
    "# for the dataset of images and required layer name passed to it, into a matrix of activations where each row \n",
    "# corresponds to the activation for a given image and layer\n",
    "\n",
    "def activation_matrix(mdl_activation,data, name_of_layer):\n",
    "  \n",
    "  active_matrix = []\n",
    "  \n",
    "  for i in range(data.shape[0]):\n",
    "    active_matrix.append(layerwise_activation_vector(mdl_activation,data[i],name_of_layer))\n",
    "\n",
    "  return np.asarray(active_matrix)"
   ]
  },
  {
   "cell_type": "code",
   "execution_count": null,
   "metadata": {
    "colab": {},
    "colab_type": "code",
    "id": "uvIIkxyI2dTH"
   },
   "outputs": [],
   "source": [
    "# Function to generate clusters from activation values and check how those clusters perform against the performance of CNNs\n",
    "\n",
    "def cluster_analysis(mdl, activations, y_test,x_test):\n",
    "  \n",
    "  # Hirarchical clustering of the matrix of activations\n",
    "  cluster_mdl  = ac(n_clusters = 3)\n",
    "\n",
    "  # Predictions of the clustering algorithm\n",
    "  predicted_classes = cluster_mdl.fit_predict(activations)\n",
    "\n",
    "  # Real classes in the test dataset\n",
    "  original_classes = np.argmax(y_test,axis = 1)\n",
    "\n",
    "  # Predictions made by the CNN model\n",
    "  cnn_predictions = np.argmax(mdl.predict(x_test), axis = 1)\n",
    "\n",
    "  # Calssification accuracies of:\n",
    "\n",
    "  # Cluster v/s Real Class\n",
    "  print(accuracy_score(predicted_classes,original_classes))\n",
    "\n",
    "  # CNN predictions v/s Real Class\n",
    "  print(accuracy_score(cnn_predictions,original_classes))\n",
    "\n",
    "  # Cluster v/s CNN predictions\n",
    "  print(accuracy_score(predicted_classes,cnn_predictions))\n",
    "\n",
    "  return"
   ]
  },
  {
   "cell_type": "code",
   "execution_count": null,
   "metadata": {
    "colab": {
     "base_uri": "https://localhost:8080/",
     "height": 65
    },
    "colab_type": "code",
    "id": "pq_YcWEBN_F9",
    "outputId": "a15c741a-fb29-4f84-82a1-9b90a1273736"
   },
   "outputs": [],
   "source": [
    "# Layer wise activation\n",
    "matrix_of_activations = activation_matrix(mdl_activation, x_test, 'conv2d_1')\n",
    "\n",
    "# Hirarchical clustering of the layerwise activation\n",
    "cluster_analysis(mdl,matrix_of_activations, y_test,x_test)"
   ]
  },
  {
   "cell_type": "code",
   "execution_count": null,
   "metadata": {
    "colab": {
     "base_uri": "https://localhost:8080/",
     "height": 65
    },
    "colab_type": "code",
    "id": "XJn_gFWDPnp-",
    "outputId": "ea5c253f-2e33-4088-97ff-7810b8a2299e"
   },
   "outputs": [],
   "source": [
    "# Calling the clustering function on all the activations \n",
    "\n",
    "full_mat = activation_matrix(mdl_activation, x_test, mdl.layers[1].name)\n",
    "\n",
    "for layers in  mdl.layers[2:6]:\n",
    "  full_mat = np.concatenate((full_mat,activation_matrix(mdl_activation, x_test, layers.name)), axis = 1)\n",
    "\n",
    "cluster_analysis(mdl,full_mat, y_test,x_test)"
   ]
  },
  {
   "cell_type": "code",
   "execution_count": null,
   "metadata": {
    "colab": {},
    "colab_type": "code",
    "id": "j_b7troDePIg"
   },
   "outputs": [],
   "source": [
    "# Confusion Matrix to understand the distribution of correct and incorrect predicitons\n",
    "\n",
    "confusion_matrix = pd.DataFrame(index = ['t_covid','t_normal','t_vp'], columns = ['p_covid','p_normal','p_vp'])\n",
    "\n",
    "classification_list = [[],[],[],[],[],[],[],[],[]]\n",
    "for i in range(x_test.shape[0]):\n",
    "  original_class = np.argmax(y_test[i])\n",
    "  predicted_class = np.argmax(mdl.predict(np.expand_dims(x_test[i],axis = 0)))\n",
    "  classification_list[(original_class*4)+predicted_class-original_class].append(i)\n",
    "  \n",
    "for i in range(3):\n",
    "  for j in range(3):\n",
    "    confusion_matrix.iat[i,j] =classification_list[(i*3)+j]"
   ]
  },
  {
   "cell_type": "code",
   "execution_count": null,
   "metadata": {
    "colab": {
     "base_uri": "https://localhost:8080/",
     "height": 140
    },
    "colab_type": "code",
    "id": "wklQgK63n51i",
    "outputId": "81d04ded-64f2-4324-83aa-a3f97788dd32"
   },
   "outputs": [],
   "source": [
    "confusion_matrix"
   ]
  },
  {
   "cell_type": "code",
   "execution_count": null,
   "metadata": {
    "colab": {},
    "colab_type": "code",
    "id": "sYRq-Exfs8dG"
   },
   "outputs": [],
   "source": [
    "#  need to convert the softmax output to a linear output\n",
    "from keras import activations\n",
    "layer_idx = utils.find_layer_idx(mdl, 'dense_2')\n",
    "mdl.layers[layer_idx].activation = activations.relu\n",
    "mdl_linear_op = utils.apply_modifications(mdl)"
   ]
  },
  {
   "cell_type": "code",
   "execution_count": null,
   "metadata": {
    "colab": {},
    "colab_type": "code",
    "id": "aTskdsZypXGj"
   },
   "outputs": [],
   "source": [
    "# A function to take in the images and generate the grad_cam and saliency maps\n",
    "\n",
    "def cnn_visualizer(images, mdl_linear_op,layer_idx, input_class, predicted_class, row_name, col_name):\n",
    " \n",
    "  no_of_images = len(images)\n",
    "  images_per_row = 5\n",
    "\n",
    "  image_array_columns = 256*images_per_row\n",
    "  image_array_rows = int(np.ceil(no_of_images/images_per_row))*256\n",
    "  \n",
    "  image_array = np.zeros((image_array_rows, image_array_columns))\n",
    "  salient_map_array = np.zeros((image_array_rows, image_array_columns))\n",
    "  cam_actual_array = np.zeros((image_array_rows, image_array_columns))\n",
    "  cam_pred_array = np.zeros((image_array_rows, image_array_columns))\n",
    "\n",
    "\n",
    "  for idx,image in enumerate(images):\n",
    "    a = int(np.floor(idx / 5))\n",
    "    b = idx - (5*a)\n",
    "\n",
    "    image_array[(a*256):((a+1)*256), b*256:(b+1)*256] = image.reshape(256,256) \n",
    "\n",
    "    gradient = visualize_saliency(mdl_linear_op, \n",
    "                              layer_idx,\n",
    "                              filter_indices = None,\n",
    "                              seed_input = image)\n",
    "    gaus_filter = ndimage.gaussian_filter(gradient, sigma = 5)\n",
    "    salient_map_array[a*256:(a+1)*256, b*256:(b+1)*256] = gaus_filter \n",
    "\n",
    "    visualization = visualize_cam(mdl_linear_op, layer_idx, filter_indices=input_class[idx], seed_input=image)\n",
    "    cam_actual_array[a*256:(a+1)*256, b*256:(b+1)*256] = visualization\n",
    "\n",
    "    visualization = visualize_cam(mdl_linear_op, layer_idx, filter_indices=predicted_class[idx], seed_input=image)\n",
    "    cam_pred_array[a*256:(a+1)*256, b*256:(b+1)*256] = visualization\n",
    "\n",
    "  \n",
    "    \n",
    "  # Plottng the grid of the feature maps for this layer\n",
    "  fig, ax = plt.subplots(3,1,figsize=(20,15), constrained_layout = True)\n",
    "  fig.suptitle('{}+{}'.format(row_name,col_name))\n",
    "\n",
    "  ax[0].imshow(image_array, cmap = 'gray')\n",
    "  ax[0].imshow(salient_map_array, alpha = 0.6)\n",
    "  ax[0].set(title ='Saliency Map')\n",
    "\n",
    "  ax[1].imshow(image_array, cmap = 'gray')\n",
    "  ax[1].imshow(cam_actual_array,cmap = 'RdYlBu',alpha = 0.6)\n",
    "  ax[1].set(title ='CAM Map Corresponding to True Classes')\n",
    "\n",
    "  ax[2].imshow(image_array, cmap = 'gray')\n",
    "  ax[2].imshow(cam_pred_array,cmap = 'RdYlBu', alpha = 0.6)\n",
    "  ax[2].set(title='CAM Map Corresponding to Predicted Classes')\n",
    "\n",
    "  plt.show()\n",
    "\n",
    "  return"
   ]
  },
  {
   "cell_type": "code",
   "execution_count": null,
   "metadata": {
    "colab": {
     "base_uri": "https://localhost:8080/",
     "height": 1000
    },
    "colab_type": "code",
    "id": "jeBG1l8XzMNb",
    "outputId": "d0c3d847-2f11-42a0-c969-48aa560b9510"
   },
   "outputs": [],
   "source": [
    "# Plottiing the different visualizzations by predicted and actual class\n",
    "# to make an attempt at understanding visually how the CNN makes predictions\n",
    "\n",
    "for i in range(3):\n",
    "  for j in range(3):\n",
    "\n",
    "    row = i\n",
    "    col = j\n",
    "    image_list = confusion_matrix.iloc[row,col]\n",
    "    if len(image_list) != 0:\n",
    "      images = x_test[image_list]\n",
    "      input_class = np.argmax(y_test[image_list], axis = 1)\n",
    "\n",
    "      predicted_class =np.argmax(mdl.predict(images), axis =1)\n",
    "      row_name = confusion_matrix.index[row]\n",
    "      col_name = confusion_matrix.columns[col]\n",
    "      cnn_visualizer(images,mdl_linear_op,layer_idx,input_class,predicted_class,row_name,col_name)"
   ]
  }
 ],
 "metadata": {
  "accelerator": "GPU",
  "colab": {
   "collapsed_sections": [],
   "name": "CNN_Covid19_2.ipynb",
   "provenance": [],
   "toc_visible": true
  },
  "kernelspec": {
   "display_name": "Python 3",
   "language": "python",
   "name": "python3"
  },
  "language_info": {
   "codemirror_mode": {
    "name": "ipython",
    "version": 3
   },
   "file_extension": ".py",
   "mimetype": "text/x-python",
   "name": "python",
   "nbconvert_exporter": "python",
   "pygments_lexer": "ipython3",
   "version": "3.6.8"
  }
 },
 "nbformat": 4,
 "nbformat_minor": 1
}
